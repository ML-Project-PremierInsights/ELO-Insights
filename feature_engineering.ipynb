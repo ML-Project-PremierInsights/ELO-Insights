{
 "cells": [
  {
   "cell_type": "code",
   "execution_count": 10,
   "metadata": {},
   "outputs": [],
   "source": [
    "import numpy as np\n",
    "import pandas as pd\n",
    "import csv"
   ]
  },
  {
   "cell_type": "code",
   "execution_count": 11,
   "metadata": {},
   "outputs": [],
   "source": [
    "file = open('Datasets/feature_dataset.csv', 'w')\n",
    "writer = csv.writer(file)"
   ]
  },
  {
   "cell_type": "code",
   "execution_count": 12,
   "metadata": {},
   "outputs": [],
   "source": [
    "writer.writerow(['Season', 'Home Team', 'Away Team', 'Home Goals', 'Away Goals', 'Home Team ELO', 'Away Team ELO', 'Home XG', 'Away XG', 'Home XGA', 'Away XGA', 'Home Win Percentage', 'Home Draw Percentage','Away Win Percentage', 'Away Draw Percentage','Head2Head Win','Head2Head Draw', 'Winner'])\n",
    "\n",
    "# Load the dataset\n",
    "matches_dataset = pd.read_csv('Datasets/premier-league-matches.csv')\n",
    "xg_ratings_dataset = pd.read_csv('Datasets/XG_team_features.csv')\n",
    "initial_dataset = pd.read_csv('Datasets/updated_training_data.csv')\n",
    "\n",
    "# Filter the dataset to only include matches from 2014 onwards\n",
    "matches_dataset = matches_dataset[matches_dataset['Season_End_Year'] >= 2015]\n",
    "elo_ratings_dataset = pd.read_csv('Datasets/ELO_ratings.csv')\n"
   ]
  },
  {
   "cell_type": "code",
   "execution_count": 13,
   "metadata": {},
   "outputs": [
    {
     "name": "stdout",
     "output_type": "stream",
     "text": [
      "(3420, 8)\n"
     ]
    }
   ],
   "source": [
    "matches_dataset.head()\n",
    "print(matches_dataset.shape)"
   ]
  },
  {
   "cell_type": "code",
   "execution_count": 14,
   "metadata": {},
   "outputs": [
    {
     "name": "stdout",
     "output_type": "stream",
     "text": [
      "(12026, 9)\n"
     ]
    }
   ],
   "source": [
    "initial_dataset.head()\n",
    "print(initial_dataset.shape)"
   ]
  },
  {
   "cell_type": "code",
   "execution_count": 15,
   "metadata": {},
   "outputs": [
    {
     "name": "stdout",
     "output_type": "stream",
     "text": [
      "(12026, 8)\n"
     ]
    }
   ],
   "source": [
    "elo_ratings_dataset.head()\n",
    "print(elo_ratings_dataset.shape)"
   ]
  },
  {
   "cell_type": "code",
   "execution_count": 16,
   "metadata": {},
   "outputs": [
    {
     "name": "stdout",
     "output_type": "stream",
     "text": [
      "{2015: {'Watford': [55.0, 45.0], 'Chelsea': [68.64, 31.52], 'Manchester City': [75.82, 40.5], 'Arsenal': [69.8, 35.72], 'Manchester Utd': [54.21, 33.84], 'Tottenham': [52.39, 57.04], 'Liverpool': [51.7, 38.25], 'Southampton': [54.97, 39.11], 'Swansea City': [40.9, 55.94], 'Stoke City': [46.26, 47.03], 'Crystal Palace': [44.76, 45.48], 'Everton': [44.89, 46.18], 'West Ham': [46.69, 57.4], 'West Brom': [38.63, 53.75], 'Leicester City': [48.21, 56.39], 'Newcastle Utd': [40.22, 51.01], 'Sunderland': [37.45, 51.46], 'Aston Villa': [33.1, 49.71], 'Hull City': [32.79, 46.99], 'Burnley': [39.37, 57.89], 'QPR': [45.73, 65.26]}, 2021: {'Watford': [50.0, 35.0], 'Manchester City': [77.72, 30.61], 'Manchester Utd': [63.17, 41.92], 'Liverpool': [72.21, 47.3], 'Chelsea': [68.66, 30.9], 'Leicester City': [58.8, 47.07], 'West Ham': [60.34, 49.86], 'Tottenham': [56.68, 52.55], 'Arsenal': [52.25, 43.23], 'Leeds United': [59.26, 63.02], 'Everton': [49.24, 50.16], 'Aston Villa': [56.72, 53.25], 'Newcastle Utd': [43.96, 60.02], 'Wolves': [38.62, 52.19], 'Crystal Palace': [35.29, 61.9], 'Southampton': [45.28, 58.55], 'Brighton': [53.82, 39.91], 'Burnley': [38.13, 59.06], 'Fulham': [41.06, 57.64], 'West Brom': [34.97, 74.04], 'Sheffield Utd': [33.16, 66.11]}, 2023: {'Watford': [45.0, 55.0], 'Manchester City': [85.04, 34.21], 'Arsenal': [76.53, 45.16], 'Manchester Utd': [76.8, 51.26], 'Newcastle Utd': [71.67, 41.86], 'Liverpool': [81.87, 55.77], 'Brighton': [70.86, 50.15], 'Aston Villa': [54.37, 53.96], 'Tottenham': [57.6, 51.66], 'Brentford': [58.26, 51.45], 'Fulham': [39.24, 71.49], 'Crystal Palace': [44.24, 61.83], 'Chelsea': [52.28, 54.02], 'Wolves': [35.01, 62.68], 'West Ham': [51.62, 55.31], 'Bournemouth': [35.05, 87.6], \"Nott'ham Forest\": [35.05, 68.46], 'Everton': [40.71, 68.58], 'Leeds United': [40.58, 69.58], 'Leicester City': [46.07, 66.76], 'Southampton': [36.47, 82.9]}, 2024: {'Watford': [46.0, 54.0], 'Manchester City': [89.55, 37.27], 'Arsenal': [84.39, 31.78], 'Liverpool': [94.79, 47.4], 'Aston Villa': [67.42, 65.08], 'Tottenham': [73.35, 68.07], 'Chelsea': [80.88, 62.6], 'Newcastle Utd': [84.48, 62.46], 'Manchester Utd': [60.33, 74.76], 'West Ham': [54.55, 77.91], 'Crystal Palace': [53.94, 57.99], 'Brighton': [61.91, 60.94], 'Everton': [60.75, 60.26], 'Bournemouth': [63.78, 65.51], 'Fulham': [52.81, 66.9], 'Wolves': [50.65, 76.11], 'Brentford': [64.29, 60.26], \"Nott'ham Forest\": [52.16, 56.25], 'Luton': [49.87, 91.65], 'Burnley': [43.44, 75.72], 'Sheffield Utd': [41.31, 85.71]}, 2016: {'Leicester City': [68.42, 45.02], 'Arsenal': [73.53, 33.86], 'Tottenham': [63.42, 37.08], 'Manchester City': [68.2, 37.47], 'Manchester Utd': [45.42, 39.66], 'Southampton': [56.2, 44.29], 'West Ham': [54.4, 55.48], 'Liverpool': [54.37, 37.88], 'Stoke City': [42.63, 54.35], 'Chelsea': [54.48, 44.63], 'Everton': [53.98, 54.75], 'Swansea City': [39.96, 53.63], 'Watford': [43.2, 51.85], 'West Brom': [39.75, 51.94], 'Crystal Palace': [42.51, 52.94], 'Bournemouth': [38.71, 53.97], 'Sunderland': [40.52, 58.85], 'Newcastle Utd': [37.61, 55.42], 'Norwich City': [39.19, 58.93], 'Aston Villa': [28.53, 59.01]}, 2017: {'Chelsea': [61.8, 28.62], 'Tottenham': [70.07, 33.78], 'Manchester City': [79.85, 29.61], 'Liverpool': [68.63, 37.65], 'Arsenal': [63.58, 47.07], 'Manchester Utd': [57.57, 31.62], 'Everton': [49.63, 45.78], 'Southampton': [49.98, 43.08], 'Bournemouth': [50.02, 62.99], 'West Brom': [38.21, 47.9], 'West Ham': [48.25, 59.67], 'Leicester City': [44.34, 51.3], 'Stoke City': [47.67, 48.67], 'Crystal Palace': [45.4, 50.03], 'Swansea City': [39.5, 65.13], 'Burnley': [35.59, 55.27], 'Watford': [36.25, 52.62], 'Hull City': [33.84, 71.77], 'Middlesbrough': [30.93, 55.3], 'Sunderland': [34.22, 65.66]}, 2018: {'Manchester City': [91.43, 24.51], 'Manchester Utd': [59.04, 43.64], 'Tottenham': [68.91, 35.86], 'Liverpool': [77.49, 35.75], 'Chelsea': [59.16, 34.03], 'Arsenal': [72.27, 48.75], 'Burnley': [32.77, 52.16], 'Everton': [43.71, 55.5], 'Leicester City': [50.29, 49.36], 'Newcastle Utd': [44.63, 52.47], 'Crystal Palace': [56.75, 53.54], 'Bournemouth': [39.99, 64.93], 'West Ham': [36.8, 58.37], 'Watford': [45.85, 53.98], 'Brighton': [37.21, 53.08], 'Huddersfield': [32.13, 53.22], 'Southampton': [41.88, 46.56], 'Swansea City': [29.71, 61.83], 'Stoke City': [36.75, 65.54], 'West Brom': [35.18, 48.99]}, 2019: {'Manchester City': [93.72, 25.73], 'Liverpool': [79.46, 29.15], 'Chelsea': [63.97, 38.11], 'Tottenham': [61.75, 49.15], 'Arsenal': [64.8, 57.3], 'Manchester Utd': [68.62, 52.3], 'Wolves': [53.06, 42.69], 'Everton': [53.87, 49.31], 'Leicester City': [52.11, 44.84], 'West Ham': [47.96, 65.68], 'Watford': [51.73, 63.29], 'Crystal Palace': [50.64, 52.8], 'Newcastle Utd': [39.91, 57.55], 'Bournemouth': [58.81, 62.42], 'Burnley': [44.74, 66.12], 'Southampton': [49.67, 59.27], 'Brighton': [37.03, 62.46], 'Cardiff City': [41.77, 66.5], 'Fulham': [42.62, 73.59], 'Huddersfield': [29.0, 67.19]}, 2020: {'Liverpool': [75.19, 39.57], 'Manchester City': [102.21, 37.0], 'Manchester Utd': [66.19, 38.06], 'Chelsea': [76.23, 41.09], 'Leicester City': [61.02, 47.89], 'Tottenham': [49.02, 54.13], 'Wolves': [54.22, 37.39], 'Arsenal': [50.82, 57.25], 'Sheffield Utd': [45.81, 52.04], 'Burnley': [49.35, 53.84], 'Southampton': [56.5, 58.59], 'Everton': [53.71, 49.21], 'Newcastle Utd': [36.49, 67.03], 'Crystal Palace': [34.45, 57.39], 'Brighton': [47.42, 60.42], 'West Ham': [49.07, 68.32], 'Aston Villa': [45.09, 71.6], 'Bournemouth': [44.67, 63.29], 'Watford': [48.56, 59.53], 'Norwich City': [37.23, 71.61]}, 2022: {'Manchester City': [93.4, 25.21], 'Liverpool': [93.02, 32.73], 'Chelsea': [69.3, 35.12], 'Tottenham': [67.95, 43.7], 'Arsenal': [63.39, 48.39], 'Manchester Utd': [57.21, 56.85], 'West Ham': [54.98, 53.88], 'Leicester City': [49.49, 66.11], 'Brighton': [49.57, 47.21], 'Wolves': [39.04, 58.48], 'Newcastle Utd': [41.53, 62.71], 'Crystal Palace': [48.84, 41.33], 'Brentford': [52.89, 49.5], 'Aston Villa': [43.13, 53.1], 'Southampton': [47.35, 64.56], 'Everton': [44.47, 60.69], 'Leeds United': [51.19, 71.31], 'Burnley': [41.11, 60.22], 'Watford': [39.34, 67.53], 'Norwich City': [31.51, 80.08]}}\n"
     ]
    }
   ],
   "source": [
    "xg_ratings = {}\n",
    "\n",
    "for index, row in xg_ratings_dataset.iterrows():\n",
    "    season = int(row['Season'][:4]) + 1\n",
    "    if season not in xg_ratings:\n",
    "        xg_ratings[season] = {}\n",
    "\n",
    "    team = row['Team']\n",
    "    xg_ratings[season][team] = [row['xG'], row['xGA']]\n",
    "\n",
    "print(xg_ratings)"
   ]
  },
  {
   "cell_type": "code",
   "execution_count": 17,
   "metadata": {},
   "outputs": [],
   "source": [
    "head2head = {}\n",
    "teams = set(list(matches_dataset['Home'].unique()) + list(matches_dataset['Away'].unique()))\n",
    "\n",
    "for team in teams:\n",
    "    head2head[team] = {}\n",
    "    for team2 in teams:\n",
    "        head2head[team][team2] = {'Matches': 0, 'Wins': 0, 'Draws': 0}"
   ]
  },
  {
   "cell_type": "code",
   "execution_count": 18,
   "metadata": {},
   "outputs": [],
   "source": [
    "for index, row in matches_dataset.iterrows():\n",
    "\n",
    "    season_end = row['Season_End_Year']\n",
    "    season = f'{season_end - 1}-{season_end}'\n",
    "    home_team = row['Home']\n",
    "    away_team = row['Away']\n",
    "    row2 = initial_dataset.loc[index]\n",
    "    row3 = elo_ratings_dataset.loc[index]\n",
    "    home_team_elo = row3['Home Team Rating']\n",
    "    away_team_elo = row3['Away Team Rating']\n",
    "\n",
    "    home_xg = xg_ratings[season_end][home_team][0]\n",
    "    away_xg = xg_ratings[season_end][away_team][0]\n",
    "    home_xga = xg_ratings[season_end][home_team][1]\n",
    "    away_xga = xg_ratings[season_end][away_team][1]\n",
    "\n",
    "    home_goals = row['HomeGoals']\n",
    "    away_goals = row['AwayGoals']\n",
    "\n",
    "    home_win_percentage = row2['Home Team Win Percentage']\n",
    "    home_draw_percentage = row2['Home Team Draw Percentage']\n",
    "    away_win_percentage = row2['Away Team Win Percentage']\n",
    "    away_draw_percentage = row2['Away Team Draw Percentage']\n",
    "\n",
    "    head2head[home_team][away_team]['Matches'] += 1\n",
    "    head2head[away_team][home_team]['Matches'] += 1\n",
    "\n",
    "    if row2['Winner'] == 1:\n",
    "        goal_difference = home_goals - away_goals\n",
    "        \n",
    "        factor = home_goals / home_xg if home_xg != 0 else 1\n",
    "\n",
    "        home_xg = round(home_xg * (1 + 0.05 * factor * goal_difference))\n",
    "        home_xga = round(home_xga * (1 - 0.05 * factor * goal_difference))\n",
    "\n",
    "        tmp_xg_home = xg_ratings[season_end][home_team][0]\n",
    "        tmp_xga_home = xg_ratings[season_end][home_team][1]\n",
    "\n",
    "        xg_ratings[season_end][home_team][0] = home_xg\n",
    "        xg_ratings[season_end][home_team][1] = home_xga\n",
    "\n",
    "        away_factor = away_goals / away_xg if away_xg != 0 else 1\n",
    "\n",
    "        away_xg = round(away_xg * (1 - 0.05 * away_factor * goal_difference))\n",
    "        away_xga = round(away_xga * (1 + 0.05 * away_factor * goal_difference))\n",
    "\n",
    "        tmp_xg_away = xg_ratings[season_end][away_team][0]\n",
    "        tmp_xga_away = xg_ratings[season_end][away_team][1]\n",
    "\n",
    "        xg_ratings[season_end][away_team][0] = away_xg\n",
    "        xg_ratings[season_end][away_team][1] = away_xga\n",
    "\n",
    "        head2head_win = round(head2head[home_team][away_team]['Wins'] / head2head[home_team][away_team]['Matches'] * 100)\n",
    "        head2head_draw = round(head2head[home_team][away_team]['Draws'] / head2head[home_team][away_team]['Matches'] * 100)\n",
    "        head2head[home_team][away_team]['Wins'] += 1\n",
    "\n",
    "        writer.writerow([season, home_team, away_team, home_goals, away_goals, home_team_elo, away_team_elo, tmp_xg_home, tmp_xga_home, tmp_xg_away, tmp_xga_away, home_win_percentage, home_draw_percentage, away_win_percentage, away_draw_percentage, head2head_win, head2head_draw, 1])\n",
    "\n",
    "    elif row2['Winner'] == -1:\n",
    "        head2head[away_team][home_team]['Wins'] += 1\n",
    "        goal_difference = away_goals - home_goals\n",
    "\n",
    "        factor = away_goals / away_xg if away_xg != 0 else 1\n",
    "\n",
    "        away_xg = round(away_xg * (1 + 0.05 * factor * goal_difference))\n",
    "        away_xga = round(away_xga * (1 - 0.05 * factor * goal_difference))\n",
    "\n",
    "        tmp_xg_away = xg_ratings[season_end][away_team][0]\n",
    "        tmp_xga_away = xg_ratings[season_end][away_team][1]\n",
    "\n",
    "        xg_ratings[season_end][away_team][0] = away_xg\n",
    "        xg_ratings[season_end][away_team][1] = away_xga\n",
    "\n",
    "        home_factor = home_goals / home_xg if home_xg != 0 else 1\n",
    "\n",
    "        home_xg = round(home_xg * (1 - 0.05 * home_factor * goal_difference))\n",
    "        home_xga = round(home_xga * (1 + 0.05 * home_factor * goal_difference))\n",
    "\n",
    "        tmp_xg_home = xg_ratings[season_end][home_team][0]\n",
    "        tmp_xga_home = xg_ratings[season_end][home_team][1]\n",
    "\n",
    "        xg_ratings[season_end][home_team][0] = home_xg\n",
    "        xg_ratings[season_end][home_team][1] = home_xga\n",
    "\n",
    "        head2head_win = round(head2head[home_team][away_team]['Wins'] / head2head[home_team][away_team]['Matches'] * 100)\n",
    "        head2head_draw = round(head2head[home_team][away_team]['Draws'] / head2head[home_team][away_team]['Matches'] * 100)\n",
    "\n",
    "        writer.writerow([season, home_team, away_team, home_goals, away_goals, home_team_elo, away_team_elo, tmp_xg_home, tmp_xga_home, tmp_xg_away, tmp_xga_away, home_win_percentage, home_draw_percentage, away_win_percentage, away_draw_percentage, head2head_win, head2head_draw, -1])\n",
    "\n",
    "    else:\n",
    "\n",
    "        head2head_win = round(head2head[home_team][away_team]['Wins'] / head2head[home_team][away_team]['Matches'] * 100)\n",
    "        head2head_draw = round(head2head[home_team][away_team]['Draws'] / head2head[home_team][away_team]['Matches'] * 100)\n",
    "\n",
    "        head2head[home_team][away_team]['Draws'] += 1\n",
    "        head2head[away_team][home_team]['Draws'] += 1\n",
    "\n",
    "        home_xg = xg_ratings[season_end][home_team][0]\n",
    "        away_xg = xg_ratings[season_end][away_team][0]\n",
    "        home_xga = xg_ratings[season_end][home_team][1]\n",
    "        away_xga = xg_ratings[season_end][away_team][1]\n",
    "\n",
    "        writer.writerow([season, home_team, away_team, home_goals, away_goals, home_team_elo, away_team_elo, home_xg, away_xg, home_xga, away_xga, home_win_percentage, home_draw_percentage, away_win_percentage, away_draw_percentage, head2head_win, head2head_draw,  0])\n",
    "    "
   ]
  }
 ],
 "metadata": {
  "kernelspec": {
   "display_name": "machinelearning",
   "language": "python",
   "name": "python3"
  },
  "language_info": {
   "codemirror_mode": {
    "name": "ipython",
    "version": 3
   },
   "file_extension": ".py",
   "mimetype": "text/x-python",
   "name": "python",
   "nbconvert_exporter": "python",
   "pygments_lexer": "ipython3",
   "version": "3.12.5"
  }
 },
 "nbformat": 4,
 "nbformat_minor": 2
}
