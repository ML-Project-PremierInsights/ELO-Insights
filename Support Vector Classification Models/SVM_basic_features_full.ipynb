{
 "cells": [
  {
   "cell_type": "code",
   "execution_count": 1,
   "metadata": {},
   "outputs": [],
   "source": [
    "# All necessary imports for SVM classification\n",
    "import pandas as pd\n",
    "import numpy as np\n",
    "from sklearn.model_selection import train_test_split\n",
    "from sklearn.svm import SVC\n",
    "from sklearn.metrics import accuracy_score, classification_report, confusion_matrix, ConfusionMatrixDisplay\n",
    "import matplotlib.pyplot as plt\n",
    "from sklearn.preprocessing import StandardScaler"
   ]
  },
  {
   "cell_type": "code",
   "execution_count": 2,
   "metadata": {},
   "outputs": [
    {
     "data": {
      "text/html": [
       "<div>\n",
       "<style scoped>\n",
       "    .dataframe tbody tr th:only-of-type {\n",
       "        vertical-align: middle;\n",
       "    }\n",
       "\n",
       "    .dataframe tbody tr th {\n",
       "        vertical-align: top;\n",
       "    }\n",
       "\n",
       "    .dataframe thead th {\n",
       "        text-align: right;\n",
       "    }\n",
       "</style>\n",
       "<table border=\"1\" class=\"dataframe\">\n",
       "  <thead>\n",
       "    <tr style=\"text-align: right;\">\n",
       "      <th></th>\n",
       "      <th>Home Team</th>\n",
       "      <th>Away Team</th>\n",
       "      <th>Home_Team_Rating</th>\n",
       "      <th>Away_Team_Rating</th>\n",
       "      <th>Winner</th>\n",
       "    </tr>\n",
       "  </thead>\n",
       "  <tbody>\n",
       "    <tr>\n",
       "      <th>0</th>\n",
       "      <td>13</td>\n",
       "      <td>15</td>\n",
       "      <td>1516</td>\n",
       "      <td>1484</td>\n",
       "      <td>1</td>\n",
       "    </tr>\n",
       "    <tr>\n",
       "      <th>1</th>\n",
       "      <td>26</td>\n",
       "      <td>25</td>\n",
       "      <td>1516</td>\n",
       "      <td>1484</td>\n",
       "      <td>1</td>\n",
       "    </tr>\n",
       "    <tr>\n",
       "      <th>2</th>\n",
       "      <td>46</td>\n",
       "      <td>3</td>\n",
       "      <td>1516</td>\n",
       "      <td>1484</td>\n",
       "      <td>1</td>\n",
       "    </tr>\n",
       "    <tr>\n",
       "      <th>3</th>\n",
       "      <td>30</td>\n",
       "      <td>36</td>\n",
       "      <td>1500</td>\n",
       "      <td>1500</td>\n",
       "      <td>0</td>\n",
       "    </tr>\n",
       "    <tr>\n",
       "      <th>4</th>\n",
       "      <td>40</td>\n",
       "      <td>39</td>\n",
       "      <td>1484</td>\n",
       "      <td>1516</td>\n",
       "      <td>-1</td>\n",
       "    </tr>\n",
       "  </tbody>\n",
       "</table>\n",
       "</div>"
      ],
      "text/plain": [
       "   Home Team  Away Team  Home_Team_Rating  Away_Team_Rating  Winner\n",
       "0         13         15              1516              1484       1\n",
       "1         26         25              1516              1484       1\n",
       "2         46          3              1516              1484       1\n",
       "3         30         36              1500              1500       0\n",
       "4         40         39              1484              1516      -1"
      ]
     },
     "execution_count": 2,
     "metadata": {},
     "output_type": "execute_result"
    }
   ],
   "source": [
    "#Data preparation\n",
    "\n",
    "team_number = 0\n",
    "team_dict = dict()\n",
    "matches_df = pd.read_csv('/Users/rahulomalur/Desktop/Sem 5/ML/ML Project/ELO-Insights/training_dataset.csv')\n",
    "for team in list(set(matches_df['Home Team'])):\n",
    "    if team not in team_dict:\n",
    "        team_number += 1\n",
    "        team_dict[team] = team_number\n",
    "matches_df.drop(columns=['Date', 'Home Goals', 'Away Goals'], inplace=True)\n",
    "\n",
    "matches_df['Home Team'] = matches_df['Home Team'].map(team_dict)\n",
    "matches_df['Away Team'] = matches_df['Away Team'].map(team_dict)\n",
    "\n",
    "matches_df.head()"
   ]
  },
  {
   "cell_type": "markdown",
   "metadata": {},
   "source": [
    "In this notebook we will just be dealing with SVM classification using just the teams and their respective ELO ratings as the features."
   ]
  },
  {
   "cell_type": "code",
   "execution_count": 3,
   "metadata": {},
   "outputs": [
    {
     "name": "stdout",
     "output_type": "stream",
     "text": [
      "[ 1  1  1 ...  1 -1  1]\n",
      "[[-1.07995389 -0.93036852  1.09438528  0.9846141 ]\n",
      " [-0.10764898 -0.18244166  1.09438528  0.9846141 ]\n",
      " [ 1.38820473 -1.82788074  1.09438528  0.9846141 ]\n",
      " ...\n",
      " [ 0.41589982  1.08903399 -1.21966861 -1.30560492]\n",
      " [-0.10764898  1.01424131 -2.0797253  -1.35967417]\n",
      " [-1.22953926  1.61258279 -1.48192805 -0.42891062]]\n"
     ]
    }
   ],
   "source": [
    "#Train & Test separation\n",
    "Y = np.array(matches_df['Winner'])\n",
    "print(Y)\n",
    "X_df = matches_df[['Home Team', 'Away Team', 'Home_Team_Rating', 'Away_Team_Rating']]\n",
    "X = np.array(X_df)\n",
    "scaler = StandardScaler()\n",
    "X = scaler.fit_transform(X)\n",
    "print(X)\n",
    "\n",
    "X_train,X_test,Y_train,Y_test = train_test_split(X,Y,test_size=0.2)"
   ]
  },
  {
   "cell_type": "code",
   "execution_count": 4,
   "metadata": {},
   "outputs": [],
   "source": [
    "from sklearn.svm import SVC\n",
    "from sklearn.metrics import accuracy_score, classification_report, confusion_matrix, ConfusionMatrixDisplay\n",
    "import matplotlib.pyplot as plt\n",
    "\n",
    "# Fitting the SVM model to our data\n",
    "svm_model = SVC(kernel='rbf', decision_function_shape='ovr')\n",
    "\n",
    "\n",
    "svm_model.fit(X_train, Y_train)\n",
    "\n",
    "# Obtaining predictions\n",
    "Y_pred = svm_model.predict(X_test)\n",
    "\n",
    "\n"
   ]
  },
  {
   "cell_type": "code",
   "execution_count": 5,
   "metadata": {},
   "outputs": [
    {
     "name": "stdout",
     "output_type": "stream",
     "text": [
      "Accuracy: 0.56\n",
      "              precision    recall  f1-score   support\n",
      "\n",
      "          -1       0.52      0.55      0.54       684\n",
      "           0       0.17      0.01      0.01       587\n",
      "           1       0.58      0.85      0.69      1135\n",
      "\n",
      "    accuracy                           0.56      2406\n",
      "   macro avg       0.42      0.47      0.41      2406\n",
      "weighted avg       0.46      0.56      0.48      2406\n",
      "\n"
     ]
    },
    {
     "data": {
      "image/png": "[encoded data removed]",
      "text/plain": [
       "<Figure size 640x480 with 2 Axes>"
      ]
     },
     "metadata": {},
     "output_type": "display_data"
    }
   ],
   "source": [
    "# Evaluation metrics on the test set\n",
    "accuracy = accuracy_score(Y_test, Y_pred)\n",
    "print(f'Accuracy: {accuracy:.2f}')\n",
    "\n",
    "\n",
    "classification_report_str = classification_report(Y_test, Y_pred)\n",
    "print(classification_report_str)\n",
    "\n",
    "cm = confusion_matrix(Y_test, Y_pred, labels=np.unique(Y_test))\n",
    "\n",
    "disp = ConfusionMatrixDisplay(confusion_matrix=cm, display_labels=np.unique(Y_test))\n",
    "disp.plot(cmap=plt.cm.Blues)\n",
    "plt.show()"
   ]
  },
  {
   "cell_type": "markdown",
   "metadata": {},
   "source": [
    "The accuracy we have attained is very less and virtually meaningless for the draws as almost none are classified correctly so for some Analysis we will filter the dataset to include only wins and losses and see what happens."
   ]
  }
 ],
 "metadata": {
  "kernelspec": {
   "display_name": "Python 3",
   "language": "python",
   "name": "python3"
  },
  "language_info": {
   "codemirror_mode": {
    "name": "ipython",
    "version": 3
   },
   "file_extension": ".py",
   "mimetype": "text/x-python",
   "name": "python",
   "nbconvert_exporter": "python",
   "pygments_lexer": "ipython3",
   "version": "3.9.6"
  }
 },
 "nbformat": 4,
 "nbformat_minor": 2
}
