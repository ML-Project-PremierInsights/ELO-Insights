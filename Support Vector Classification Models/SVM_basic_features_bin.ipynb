{
 "cells": [
  {
   "cell_type": "code",
   "execution_count": 1,
   "metadata": {},
   "outputs": [],
   "source": [
    "# All necessary imports for SVM classification\n",
    "import pandas as pd\n",
    "import numpy as np\n",
    "from sklearn.model_selection import train_test_split\n",
    "from sklearn.svm import SVC\n",
    "from sklearn.metrics import accuracy_score, classification_report, confusion_matrix, ConfusionMatrixDisplay\n",
    "import matplotlib.pyplot as plt\n",
    "from sklearn.preprocessing import StandardScaler"
   ]
  },
  {
   "cell_type": "code",
   "execution_count": 2,
   "metadata": {},
   "outputs": [
    {
     "data": {
      "text/html": [
       "<div>\n",
       "<style scoped>\n",
       "    .dataframe tbody tr th:only-of-type {\n",
       "        vertical-align: middle;\n",
       "    }\n",
       "\n",
       "    .dataframe tbody tr th {\n",
       "        vertical-align: top;\n",
       "    }\n",
       "\n",
       "    .dataframe thead th {\n",
       "        text-align: right;\n",
       "    }\n",
       "</style>\n",
       "<table border=\"1\" class=\"dataframe\">\n",
       "  <thead>\n",
       "    <tr style=\"text-align: right;\">\n",
       "      <th></th>\n",
       "      <th>Home Team</th>\n",
       "      <th>Away Team</th>\n",
       "      <th>Home_Team_Rating</th>\n",
       "      <th>Away_Team_Rating</th>\n",
       "      <th>Winner</th>\n",
       "    </tr>\n",
       "  </thead>\n",
       "  <tbody>\n",
       "    <tr>\n",
       "      <th>0</th>\n",
       "      <td>20</td>\n",
       "      <td>2</td>\n",
       "      <td>1516</td>\n",
       "      <td>1484</td>\n",
       "      <td>1</td>\n",
       "    </tr>\n",
       "    <tr>\n",
       "      <th>1</th>\n",
       "      <td>3</td>\n",
       "      <td>35</td>\n",
       "      <td>1516</td>\n",
       "      <td>1484</td>\n",
       "      <td>1</td>\n",
       "    </tr>\n",
       "    <tr>\n",
       "      <th>2</th>\n",
       "      <td>42</td>\n",
       "      <td>10</td>\n",
       "      <td>1516</td>\n",
       "      <td>1484</td>\n",
       "      <td>1</td>\n",
       "    </tr>\n",
       "    <tr>\n",
       "      <th>3</th>\n",
       "      <td>26</td>\n",
       "      <td>50</td>\n",
       "      <td>1500</td>\n",
       "      <td>1500</td>\n",
       "      <td>0</td>\n",
       "    </tr>\n",
       "    <tr>\n",
       "      <th>4</th>\n",
       "      <td>5</td>\n",
       "      <td>25</td>\n",
       "      <td>1484</td>\n",
       "      <td>1516</td>\n",
       "      <td>-1</td>\n",
       "    </tr>\n",
       "  </tbody>\n",
       "</table>\n",
       "</div>"
      ],
      "text/plain": [
       "   Home Team  Away Team  Home_Team_Rating  Away_Team_Rating  Winner\n",
       "0         20          2              1516              1484       1\n",
       "1          3         35              1516              1484       1\n",
       "2         42         10              1516              1484       1\n",
       "3         26         50              1500              1500       0\n",
       "4          5         25              1484              1516      -1"
      ]
     },
     "execution_count": 2,
     "metadata": {},
     "output_type": "execute_result"
    }
   ],
   "source": [
    "#Data preparation\n",
    "\n",
    "team_number = 0\n",
    "team_dict = dict()\n",
    "matches_df = pd.read_csv('/Users/rahulomalur/Desktop/Sem 5/ML/ML Project/ELO-Insights/training_dataset.csv')\n",
    "for team in list(set(matches_df['Home Team'])):\n",
    "    if team not in team_dict:\n",
    "        team_number += 1\n",
    "        team_dict[team] = team_number\n",
    "matches_df.drop(columns=['Date', 'Home Goals', 'Away Goals'], inplace=True)\n",
    "\n",
    "matches_df['Home Team'] = matches_df['Home Team'].map(team_dict)\n",
    "matches_df['Away Team'] = matches_df['Away Team'].map(team_dict)\n",
    "\n",
    "matches_df.head()"
   ]
  },
  {
   "cell_type": "code",
   "execution_count": 3,
   "metadata": {},
   "outputs": [],
   "source": [
    "\n",
    "#X and Y preparation for filtered data only considering matches with a winner\n",
    "filtered_df = matches_df[matches_df['Winner'] != 0]\n",
    "Y_filtered = np.array(filtered_df['Winner'])\n",
    "X_filtered_df = filtered_df[['Home Team', 'Away Team', 'Home_Team_Rating', 'Away_Team_Rating']]\n",
    "X_filtered = np.array(X_filtered_df)\n",
    "scaler = StandardScaler()\n",
    "X_filtered = scaler.fit_transform(X_filtered)\n",
    "x_filtered_train, x_filtered_test, y_filtered_train, y_filtered_test = train_test_split(X_filtered, Y_filtered, test_size=0.2)"
   ]
  },
  {
   "cell_type": "code",
   "execution_count": 4,
   "metadata": {},
   "outputs": [],
   "source": [
    "#Training the data by fitting the SVM model to the filtered data\n",
    "svm_model = SVC(kernel='rbf', decision_function_shape='ovr')\n",
    "\n",
    "\n",
    "svm_model.fit(x_filtered_train, y_filtered_train)\n",
    "\n",
    "#Obtaining predictions for the test data\n",
    "y_filtered_pred = svm_model.predict(x_filtered_test)"
   ]
  },
  {
   "cell_type": "code",
   "execution_count": 5,
   "metadata": {},
   "outputs": [
    {
     "name": "stdout",
     "output_type": "stream",
     "text": [
      "Accuracy: 0.76\n",
      "              precision    recall  f1-score   support\n",
      "\n",
      "          -1       0.72      0.58      0.64       657\n",
      "           1       0.78      0.87      0.82      1129\n",
      "\n",
      "    accuracy                           0.76      1786\n",
      "   macro avg       0.75      0.72      0.73      1786\n",
      "weighted avg       0.76      0.76      0.76      1786\n",
      "\n"
     ]
    },
    {
     "data": {
      "image/png": "[encoded data removed]",
      "text/plain": [
       "<Figure size 640x480 with 2 Axes>"
      ]
     },
     "metadata": {},
     "output_type": "display_data"
    }
   ],
   "source": [
    "#Accuracy metrics for the filtered data\n",
    "\n",
    "accuracy = accuracy_score(y_filtered_test, y_filtered_pred)\n",
    "print(f'Accuracy: {accuracy:.2f}')\n",
    "\n",
    "\n",
    "classification_report_str = classification_report(y_filtered_test, y_filtered_pred)\n",
    "print(classification_report_str)\n",
    "\n",
    "\n",
    "cm = confusion_matrix(y_filtered_test, y_filtered_pred, labels=np.unique(y_filtered_test))\n",
    "\n",
    "disp = ConfusionMatrixDisplay(confusion_matrix=cm, display_labels=np.unique(y_filtered_test))\n",
    "disp.plot(cmap=plt.cm.Blues)\n",
    "plt.show()\n"
   ]
  },
  {
   "cell_type": "markdown",
   "metadata": {},
   "source": [
    "Our accuracy and corresponding metrics improve drastically with the exclusion of draws so now we will try to figure out why this phenomenon is occuring."
   ]
  },
  {
   "cell_type": "markdown",
   "metadata": {},
   "source": [
    "Furthermore, we will try to improve the accuracy by extracting more features from our data and testing again"
   ]
  }
 ],
 "metadata": {
  "kernelspec": {
   "display_name": "Python 3",
   "language": "python",
   "name": "python3"
  },
  "language_info": {
   "codemirror_mode": {
    "name": "ipython",
    "version": 3
   },
   "file_extension": ".py",
   "mimetype": "text/x-python",
   "name": "python",
   "nbconvert_exporter": "python",
   "pygments_lexer": "ipython3",
   "version": "3.9.6"
  }
 },
 "nbformat": 4,
 "nbformat_minor": 2
}
