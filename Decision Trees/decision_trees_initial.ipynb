{
 "cells": [
  {
   "cell_type": "code",
   "execution_count": 22,
   "metadata": {},
   "outputs": [],
   "source": [
    "import pandas as pd\n",
    "from sklearn.model_selection import train_test_split\n",
    "from sklearn.metrics import accuracy_score\n",
    "import xgboost as xgb"
   ]
  },
  {
   "cell_type": "code",
   "execution_count": 23,
   "metadata": {},
   "outputs": [
    {
     "name": "stdout",
     "output_type": "stream",
     "text": [
      "   Home_Team_Rating  Away_Team_Rating  Winner\n",
      "0              1516              1484       1\n",
      "1              1516              1484       1\n",
      "2              1516              1484       1\n",
      "3              1500              1500       0\n",
      "4              1484              1516      -1\n"
     ]
    }
   ],
   "source": [
    "dataset = pd.read_csv('/Users/noeltiju/Desktop/ML-Project/ELO-Insights/training_dataset.csv')\n",
    "\n",
    "# Reset the index to convert the MultiIndex into columns\n",
    "dataset = dataset.reset_index()\n",
    "\n",
    "col_names = ['Home_Team_Rating', 'Away_Team_Rating', 'Winner']\n",
    "\n",
    "dataset = dataset[col_names]\n",
    "print(dataset.head())"
   ]
  },
  {
   "cell_type": "code",
   "execution_count": 24,
   "metadata": {},
   "outputs": [],
   "source": [
    "features = ['Home_Team_Rating', 'Away_Team_Rating']\n",
    "target = 'Winner'\n",
    "\n",
    "X = dataset[features]\n",
    "y = dataset[target]"
   ]
  },
  {
   "cell_type": "code",
   "execution_count": 25,
   "metadata": {},
   "outputs": [],
   "source": [
    "X_train, X_test, y_train, y_test = train_test_split(X, y, test_size=0.25, random_state=16)\n",
    "\n",
    "label_map = {1: 2, 0: 1, -1: 0}\n",
    "y_train_mapped = y_train.map(label_map)\n",
    "y_test_mapped = y_test.map(label_map)"
   ]
  },
  {
   "cell_type": "code",
   "execution_count": 26,
   "metadata": {},
   "outputs": [],
   "source": [
    "dtrain_reg = xgb.DMatrix(X_train, label=y_train_mapped, enable_categorical=True)\n",
    "dtest_reg = xgb.DMatrix(X_test, label=y_test_mapped, enable_categorical=True)\n"
   ]
  },
  {
   "cell_type": "code",
   "execution_count": 27,
   "metadata": {},
   "outputs": [],
   "source": [
    "params = {\"objective\": \"multi:softmax\", \"num_class\": 3, \"tree_method\": \"hist\"}\n",
    "\n",
    "n = 100\n",
    "model = xgb.train(\n",
    "   params=params,\n",
    "   dtrain=dtrain_reg,\n",
    "   num_boost_round=n,\n",
    ")"
   ]
  },
  {
   "cell_type": "code",
   "execution_count": 28,
   "metadata": {},
   "outputs": [
    {
     "name": "stdout",
     "output_type": "stream",
     "text": [
      "RMSE of the base model: 1.464\n",
      "MAE: 1.24\n"
     ]
    },
    {
     "name": "stderr",
     "output_type": "stream",
     "text": [
      "/Users/noeltiju/miniforge3/envs/tensorflow_env/lib/python3.10/site-packages/sklearn/metrics/_regression.py:492: FutureWarning: 'squared' is deprecated in version 1.4 and will be removed in 1.6. To calculate the root mean squared error, use the function'root_mean_squared_error'.\n",
      "  warnings.warn(\n"
     ]
    }
   ],
   "source": [
    "from sklearn.metrics import mean_squared_error, mean_absolute_error\n",
    "\n",
    "preds = model.predict(dtest_reg)\n",
    "\n",
    "rmse = mean_squared_error(y_test, preds, squared=False)\n",
    "\n",
    "print(f\"RMSE of the base model: {rmse:.3f}\")\n",
    "\n",
    "mae = mean_absolute_error(y_test, preds)\n",
    "print(f\"MAE: {mae:.2f}\")"
   ]
  },
  {
   "cell_type": "code",
   "execution_count": 29,
   "metadata": {},
   "outputs": [
    {
     "name": "stdout",
     "output_type": "stream",
     "text": [
      "Accuracy: 53.57%\n"
     ]
    }
   ],
   "source": [
    "inverse_label_map = {v: k for k, v in label_map.items()}\n",
    "preds = [inverse_label_map[pred] for pred in preds]\n",
    "\n",
    "# Calculate accuracy\n",
    "accuracy = accuracy_score(y_test, preds)\n",
    "print(f\"Accuracy: {accuracy * 100:.2f}%\")"
   ]
  },
  {
   "cell_type": "code",
   "execution_count": 30,
   "metadata": {},
   "outputs": [
    {
     "data": {
      "image/png": "[encoded data removed]",
      "text/plain": [
       "<Figure size 800x600 with 2 Axes>"
      ]
     },
     "metadata": {},
     "output_type": "display_data"
    }
   ],
   "source": [
    "import numpy as np\n",
    "from sklearn.metrics import confusion_matrix\n",
    "import matplotlib.pyplot as plt\n",
    "import seaborn as sns\n",
    "\n",
    "\n",
    "cnf_matrix = confusion_matrix(y_test, preds)\n",
    "\n",
    "plt.figure(figsize=(8, 6))\n",
    "sns.heatmap(cnf_matrix, annot=True, fmt='d', cmap='Blues')\n",
    "plt.xlabel('Predicted')\n",
    "plt.ylabel('Actual')\n",
    "plt.title('Confusion Matrix')\n",
    "plt.show()\n"
   ]
  }
 ],
 "metadata": {
  "kernelspec": {
   "display_name": "tensorflow_env",
   "language": "python",
   "name": "python3"
  },
  "language_info": {
   "codemirror_mode": {
    "name": "ipython",
    "version": 3
   },
   "file_extension": ".py",
   "mimetype": "text/x-python",
   "name": "python",
   "nbconvert_exporter": "python",
   "pygments_lexer": "ipython3",
   "version": "3.10.14"
  }
 },
 "nbformat": 4,
 "nbformat_minor": 2
}
