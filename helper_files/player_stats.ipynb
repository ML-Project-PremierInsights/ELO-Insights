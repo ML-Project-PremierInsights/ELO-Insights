{
 "cells": [
  {
   "cell_type": "code",
   "execution_count": 1,
   "metadata": {},
   "outputs": [],
   "source": [
    "import pandas as pd\n",
    "import numpy as np\n",
    "import csv\n",
    "import os"
   ]
  },
  {
   "cell_type": "code",
   "execution_count": 2,
   "metadata": {},
   "outputs": [
    {
     "name": "stdout",
     "output_type": "stream",
     "text": [
      "['2011-2012.csv', '2008-2009.csv', '2010-2011.csv', '2020-2021.csv', '2006-2007.csv', '2021-2022.csv', '2019-2020.csv', '2016-2017.csv', '2000-2001.csv', '2018-2019.csv', '2001-2002.csv', '2004-2005.csv', '2022-2023.csv', '2005-2006.csv', '2013-2014.csv', '2023-2024.csv', '2012-2013.csv', '2017-2018.csv', '2007-2008.csv', '2002-2003.csv', '2015-2016.csv', '2003-2004.csv', '2014-2015.csv', '2009-2010.csv']\n"
     ]
    }
   ],
   "source": [
    "files = os.listdir('../Datasets/offensive_stats')\n",
    "print(files)"
   ]
  },
  {
   "cell_type": "code",
   "execution_count": 8,
   "metadata": {},
   "outputs": [],
   "source": [
    "training_data = pd.read_csv('../Datasets/updated_training_data.csv')\n",
    "original_data = pd.read_csv('../Datasets/premier-league-matches.csv')\n",
    "\n",
    "training_data[\"Season\"] = original_data['Season_End_Year'].apply(lambda x: f\"{x-1}-{x}\")\n",
    "\n",
    "\n",
    "cols = ['Season'] + [i for i in training_data.columns.tolist() if i != 'Season']\n",
    "training_data = training_data[cols]\n",
    "\n",
    "training_data.to_csv('../Datasets/updated_training_data.csv', index=False)"
   ]
  },
  {
   "cell_type": "code",
   "execution_count": 18,
   "metadata": {},
   "outputs": [],
   "source": [
    "season = 1992\n",
    "\n",
    "writer = csv.writer(open('../Datasets/offensive_team_stats', 'w'))\n",
    "writer.writerow(['Season', 'Team', 'Goals', 'G+A', 'Penalties', 'Games', 'Avg Goals per Game', 'Avg G+A per Game', 'Avg Penalties per Game'])\n",
    "while season < 2023:\n",
    "\n",
    "    file = f'../Datasets/offensive_stats/{season}-{season+1}.csv'\n",
    "    player_data = pd.read_csv(file)\n",
    "\n",
    "    team_data = {}\n",
    "\n",
    "    for index, row in player_data.iterrows():\n",
    "        team = row['Squad']\n",
    "        if team not in team_data:\n",
    "            team_data[team] = {\"Goals\":0, \"G+A\":0, \"Penalties\":0}\n",
    "        team_data[team][\"Goals\"] += row['Gls']\n",
    "        team_data[team][\"G+A\"] += row['Gls'] + row['Ast']\n",
    "        team_data[team][\"Penalties\"] += row['PK']\n",
    "\n",
    "    games_played = len(training_data[(training_data['Season'] == f\"{season}-{season+1}\") & ((training_data['Home Team'] == team) | (training_data['Away Team'] == team))])\n",
    "    for team in team_data:\n",
    "        writer.writerow([f\"{season}-{season+1}\", team, team_data[team][\"Goals\"], team_data[team][\"G+A\"], team_data[team][\"Penalties\"], games_played, team_data[team][\"Goals\"]/games_played, team_data[team][\"G+A\"]/games_played, team_data[team][\"Penalties\"]/games_played])\n",
    "\n",
    "\n",
    "    season += 1\n"
   ]
  }
 ],
 "metadata": {
  "kernelspec": {
   "display_name": "machinelearning",
   "language": "python",
   "name": "python3"
  },
  "language_info": {
   "codemirror_mode": {
    "name": "ipython",
    "version": 3
   },
   "file_extension": ".py",
   "mimetype": "text/x-python",
   "name": "python",
   "nbconvert_exporter": "python",
   "pygments_lexer": "ipython3",
   "version": "3.12.5"
  }
 },
 "nbformat": 4,
 "nbformat_minor": 2
}
