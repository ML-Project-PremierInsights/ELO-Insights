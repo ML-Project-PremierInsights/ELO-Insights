{
 "cells": [
  {
   "cell_type": "code",
   "execution_count": 64,
   "metadata": {},
   "outputs": [],
   "source": [
    "import pandas as pd\n",
    "import matplotlib.pyplot as plt\n",
    "import csv"
   ]
  },
  {
   "cell_type": "code",
   "execution_count": 65,
   "metadata": {},
   "outputs": [],
   "source": [
    "df = pd.read_csv(\"../Datasets/premier-league-matches.csv\")\n",
    "df.head()\n",
    "\n",
    "matches_23_24 = pd.read_csv(\"../Datasets/matches_23-24.csv\")\n",
    "\n",
    "for i in range(1, 39):\n",
    "    match_week = f'Matchweek {i}'\n",
    "    filtered_dataset = matches_23_24[(matches_23_24['Round'] == match_week) & (matches_23_24['Venue'] == 'Home')]\n",
    "    for index, row in filtered_dataset.iterrows():\n",
    "        if row['Result'] == 'W':\n",
    "            result = 'H'\n",
    "        elif row['Result'] == 'L':\n",
    "            result = 'A'\n",
    "        else:\n",
    "            result = 'D'\n",
    "        new_row = {'Season_End_Year': 2024, 'Wk':i, 'Date': row['Date'], 'Home': row['Team'], 'Away': row['Opponent'], 'HomeGoals': row['GF'], 'AwayGoals': row['GA'], 'FTR': result}\n",
    "        new_row = pd.DataFrame([new_row])\n",
    "        df = pd.concat([df, new_row], ignore_index=True)\n",
    "        \n",
    "\n",
    "df.to_csv(\"../Datasets/premier-league-matches.csv\", index=False)\n",
    "#creating season-wise database for simplicity\n",
    "seasons = df['Season_End_Year'].unique()\n",
    "season_data = {}\n",
    "\n",
    "# Iterate through each season and create a DataFrame for each\n",
    "for season_number, season_end_year in enumerate(seasons, start=1):\n",
    "    season_df = df[df['Season_End_Year'] == season_end_year][['Date','Home', 'HomeGoals', 'AwayGoals', 'Away', 'FTR']]\n",
    "    season_data[season_number] = season_df\n",
    "\n",
    "\n",
    "    "
   ]
  },
  {
   "cell_type": "code",
   "execution_count": 66,
   "metadata": {},
   "outputs": [
    {
     "name": "stdout",
     "output_type": "stream",
     "text": [
      "dict_keys(['Coventry City', 'Leeds United', 'Sheffield Utd', 'Crystal Palace', 'Arsenal', 'Ipswich Town', 'Everton', 'Southampton', 'Chelsea', \"Nott'ham Forest\", 'Manchester City', 'Blackburn', 'Wimbledon', 'Tottenham', 'Liverpool', 'Aston Villa', 'Oldham Athletic', 'Middlesbrough', 'Norwich City', 'QPR', 'Manchester Utd', 'Sheffield Weds', 'Newcastle Utd', 'West Ham', 'Swindon Town', 'Leicester City', 'Bolton', 'Sunderland', 'Derby County', 'Barnsley', 'Charlton Ath', 'Watford', 'Bradford City', 'Fulham', 'Birmingham City', 'West Brom', 'Portsmouth', 'Wolves', 'Wigan Athletic', 'Reading', 'Hull City', 'Stoke City', 'Burnley', 'Blackpool', 'Swansea City', 'Cardiff City', 'Bournemouth', 'Brighton', 'Huddersfield', 'Brentford', 'Luton Town'])\n"
     ]
    }
   ],
   "source": [
    "team_rating = {}\n",
    "#setup initial elo rating for all the team playing in 1993 premier league\n",
    "for i in df['Home'].unique():\n",
    "    team_rating[i] = {\"rating\": 1500, \"played\": False}\n",
    "\n",
    "print(team_rating.keys())\n"
   ]
  },
  {
   "cell_type": "code",
   "execution_count": 67,
   "metadata": {},
   "outputs": [],
   "source": [
    "# Function to update Elo ratings for home and away teams based on match result\n",
    "def update_elo(home_team, away_team, ftr, k=32):\n",
    "    home_elo = team_rating[home_team][\"rating\"] # Get current Elo rating for home team\n",
    "    away_elo = team_rating[away_team][\"rating\"] # Get current Elo rating for away team\n",
    "\n",
    "    # Calculate expected probabilities of home team winning and away team winning\n",
    "    expected_home = 1 / (1 + 10**((away_elo - home_elo) / 400))\n",
    "    expected_away = 1 / (1 + 10**((home_elo - away_elo) / 400))\n",
    "\n",
    "    # Update Elo ratings based on match result\n",
    "    if ftr == 'H': # Home team wins\n",
    "        home_elo_new = home_elo + k*(1 - expected_home)\n",
    "        away_elo_new = away_elo + k*(-expected_away)\n",
    "    elif ftr == 'D': # Draw\n",
    "        home_elo_new = home_elo + k*(0.5 - expected_home)\n",
    "        away_elo_new = away_elo + k*(0.5 - expected_away)\n",
    "    else: # Away team wins\n",
    "        home_elo_new = home_elo + k*(-expected_home)\n",
    "        away_elo_new = away_elo + k*(1 - expected_away)\n",
    "\n",
    "    # Update Elo ratings and set \"played\" flag to True for both teams\n",
    "    team_rating[home_team][\"rating\"] = round(home_elo_new)\n",
    "    team_rating[away_team][\"rating\"] = round(away_elo_new)\n",
    "    team_rating[home_team][\"played\"] = True\n",
    "    team_rating[away_team][\"played\"] = True\n"
   ]
  },
  {
   "cell_type": "code",
   "execution_count": 68,
   "metadata": {},
   "outputs": [],
   "source": [
    "# Open a CSV file for writing\n",
    "with open(\"../Datasets/ELO_ratings.csv\",mode=\"w\") as csv_file:\n",
    "    csv_writer = csv.writer(csv_file)\n",
    "    csv_writer.writerow(['Date', 'Home Team', 'Away Team', 'Home Team Rating', 'Away Team Rating', 'Home Goals', 'Away Goals', 'Winner'])\n",
    "    \n",
    "    season_count = [i for i in range(1,32)]\n",
    "    \n",
    "    # Iterate through each season and each match in the season\n",
    "    for season_num, season_df in season_data.items():\n",
    "        for i in season_df.index:\n",
    "            date = season_df.at[i, \"Date\"]\n",
    "            home_team = season_df.at[i, \"Home\"]\n",
    "            away_team = season_df.at[i, \"Away\"]\n",
    "            home_goals = season_df.at[i, \"HomeGoals\"]\n",
    "            away_goals = season_df.at[i, \"AwayGoals\"]\n",
    "            ftr = season_df.at[i, \"FTR\"]\n",
    "\n",
    "            # Write match details to the CSV file\n",
    "            if (ftr == 'H'):\n",
    "                csv_writer.writerow([date, home_team, away_team, team_rating[home_team][\"rating\"], team_rating[away_team][\"rating\"],home_goals,away_goals, 1])\n",
    "            elif (ftr == 'A'):\n",
    "                csv_writer.writerow([date, home_team, away_team, team_rating[home_team][\"rating\"], team_rating[away_team][\"rating\"],home_goals,away_goals, -1])\n",
    "            else:\n",
    "                csv_writer.writerow([date, home_team, away_team, team_rating[home_team][\"rating\"], team_rating[away_team][\"rating\"],home_goals,away_goals, 0])\n",
    "            \n",
    "            # Update Elo ratings based on match result\n",
    "            update_elo(home_team, away_team, ftr)\n",
    "\n",
    "    with open('../Datasets/ELO_Team_Ratings.csv', mode='w') as file:\n",
    "        writer2 = csv.writer(file)\n",
    "        writer2.writerow(['Team', 'Rating'])\n",
    "        for team, data in team_rating.items():\n",
    "            writer2.writerow([team, data['rating']])\n"
   ]
  }
 ],
 "metadata": {
  "kernelspec": {
   "display_name": "machinelearning",
   "language": "python",
   "name": "python3"
  },
  "language_info": {
   "codemirror_mode": {
    "name": "ipython",
    "version": 3
   },
   "file_extension": ".py",
   "mimetype": "text/x-python",
   "name": "python",
   "nbconvert_exporter": "python",
   "pygments_lexer": "ipython3",
   "version": "3.12.5"
  }
 },
 "nbformat": 4,
 "nbformat_minor": 2
}
