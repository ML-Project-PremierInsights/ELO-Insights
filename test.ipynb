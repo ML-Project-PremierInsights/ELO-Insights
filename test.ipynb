{
 "cells": [
  {
   "cell_type": "code",
   "execution_count": 12,
   "metadata": {},
   "outputs": [],
   "source": [
    "import pandas as pd\n",
    "import numpy as np\n"
   ]
  },
  {
   "cell_type": "code",
   "execution_count": 13,
   "metadata": {},
   "outputs": [],
   "source": [
    "data = pd.read_csv('Datasets/team_ratings.csv')\n",
    "season_data = data[data['Season'] == \"2024-2025\"]\n",
    "standings_data = pd.read_csv('Datasets/2024-2025_team_data.csv')\n",
    "\n",
    "standings_data[\"Team Form Statistics\"] = np.nan\n",
    "for index, row in season_data.iterrows():\n",
    "    team = row['Team']\n",
    "    rating = row['Rating']\n",
    "\n",
    "    rating = 2 * (row['Rating'] - season_data['Rating'].mean()) / (season_data['Rating'].max() - season_data['Rating'].min())\n",
    "    standings_data.loc[standings_data['Team'] == team, 'Team Form Statistics'] = rating\n",
    "\n",
    "standings_data.to_csv('Datasets/2024-2025_team_data.csv', index=False)\n",
    "    \n",
    "\n"
   ]
  }
 ],
 "metadata": {
  "kernelspec": {
   "display_name": "machinelearning",
   "language": "python",
   "name": "python3"
  },
  "language_info": {
   "codemirror_mode": {
    "name": "ipython",
    "version": 3
   },
   "file_extension": ".py",
   "mimetype": "text/x-python",
   "name": "python",
   "nbconvert_exporter": "python",
   "pygments_lexer": "ipython3",
   "version": "3.12.5"
  }
 },
 "nbformat": 4,
 "nbformat_minor": 2
}
